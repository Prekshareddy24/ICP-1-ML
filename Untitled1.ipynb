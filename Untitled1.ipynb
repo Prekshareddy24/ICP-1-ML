{
  "nbformat": 4,
  "nbformat_minor": 0,
  "metadata": {
    "colab": {
      "provenance": []
    },
    "kernelspec": {
      "name": "python3",
      "display_name": "Python 3"
    },
    "language_info": {
      "name": "python"
    }
  },
  "cells": [
    {
      "cell_type": "code",
      "execution_count": 1,
      "metadata": {
        "colab": {
          "base_uri": "https://localhost:8080/"
        },
        "id": "5A9cMfS5WQxr",
        "outputId": "05b6553a-c324-4b72-8468-85a61b78d11b"
      },
      "outputs": [
        {
          "output_type": "stream",
          "name": "stdout",
          "text": [
            "Sorted ages: [19, 19, 20, 22, 24, 24, 24, 25, 25, 26, 19, 26]\n",
            "Min age: 19\n",
            "Max age: 26\n",
            "Median age: 24.0\n",
            "Average age: 22.75\n",
            "Range of ages: 7\n"
          ]
        }
      ],
      "source": [
        "# Question 1\n",
        "# List of 10 student ages\n",
        "ages = [19, 22, 19, 24, 20, 25, 26, 24, 25, 24]\n",
        "\n",
        "# Sort the list and find the min and max age\n",
        "ages.sort()\n",
        "min_age = min(ages)\n",
        "max_age = max(ages)\n",
        "\n",
        "# Add the min age and the max age again to the list\n",
        "ages.extend([min_age, max_age])\n",
        "\n",
        "# Find the median age\n",
        "n = len(ages)\n",
        "if n % 2 == 0:\n",
        "    median_age = (ages[n//2 - 1] + ages[n//2]) / 2\n",
        "else:\n",
        "    median_age = ages[n//2]\n",
        "\n",
        "# Find the average age\n",
        "average_age = sum(ages) / len(ages)\n",
        "\n",
        "# Find the range of the ages\n",
        "range_of_ages = max_age - min_age\n",
        "\n",
        "print(f\"Sorted ages: {ages}\")\n",
        "print(f\"Min age: {min_age}\")\n",
        "print(f\"Max age: {max_age}\")\n",
        "print(f\"Median age: {median_age}\")\n",
        "print(f\"Average age: {average_age}\")\n",
        "print(f\"Range of ages: {range_of_ages}\")\n"
      ]
    },
    {
      "cell_type": "code",
      "source": [
        "from google.colab import drive\n",
        "drive.mount('/content/drive')"
      ],
      "metadata": {
        "id": "2vcdHdn6SJ26"
      },
      "execution_count": null,
      "outputs": []
    },
    {
      "cell_type": "code",
      "source": [
        "# Question 2\n",
        "\n",
        "# Created a empty dictionary\n",
        "dog = {}\n",
        "\n",
        "#adding keys and values to the created directory\n",
        "dog = {\"name\":\"Charlie\", \"color\":\"black\", \"bread\":\"Poomarian\", \"legs\":\"4\", \"age\":\"4\"}\n",
        "\n",
        "#Created a empty student dictionary\n",
        "student= {}\n",
        "\n",
        "#adding key values to Student Dictionary\n",
        "student= {\"first_name\":\"Preksha\",\"last_name\":\"Reddy\",\"gender\":\"Female\",\"age\":\"22\",\"martial status\":\"Single\",\n",
        "           \"skills\":['Python', 'ML'], \"country\":\"india\", \"city\":\"Bidar\",\"address\":\"Karnataka\"}\n",
        "\n",
        "# Printing the lenght of student dictionary\n",
        "print(f\"length of student: {len(student)}\")\n",
        "\n",
        "# Printing the values in skills and type of date\n",
        "print(type(student['skills']),student['skills'])\n",
        "\n",
        "# modifying skills by extend function\n",
        "student['skills'].extend(['Communication', 'Creativity', 'Leadership'])\n",
        "print(student['skills'])\n",
        "\n",
        "# Printing dictionary keys as list\n",
        "print(f\"keys of student dictionary:{student.keys()}\")\n",
        "\n",
        "# Printing dictionary keys as values\n",
        "print(f\"values of student dictionary: {student.values()}\")\n"
      ],
      "metadata": {
        "colab": {
          "base_uri": "https://localhost:8080/"
        },
        "id": "M84LBu8aWnR1",
        "outputId": "bd7522bb-8a25-4957-91d7-5068550ba577"
      },
      "execution_count": 28,
      "outputs": [
        {
          "output_type": "stream",
          "name": "stdout",
          "text": [
            "length of student: 9\n",
            "<class 'list'> ['Python', 'ML']\n",
            "['Python', 'ML', 'Communication', 'Creativity', 'Leadership']\n",
            "keys of student dictionary:dict_keys(['first_name', 'last_name', 'gender', 'age', 'martial status', 'skills', 'country', 'city', 'address'])\n",
            "values of student dictionary: dict_values(['Preksha', 'Reddy', 'Female', '22', 'Single', ['Python', 'ML', 'Communication', 'Creativity', 'Leadership'], 'india', 'Bidar', 'Karnataka'])\n"
          ]
        }
      ]
    },
    {
      "cell_type": "code",
      "source": [
        "\n",
        "# Question 3\n",
        "# Create a tuple containing names of your sisters and your brothers\n",
        "sisters = ('Preksha', 'Shreya')\n",
        "brothers = ('Rahul', 'Rohit')\n",
        "\n",
        "# Join brothers and sisters tuples and assign it to siblings\n",
        "siblings = sisters + brothers\n",
        "\n",
        "# Count how many siblings you have\n",
        "num_siblings = len(siblings)\n",
        "\n",
        "# Modify the siblings tuple and add the name of your father and mother\n",
        "parents = ('Robert', 'Susan')\n",
        "family_members = siblings + parents\n",
        "\n",
        "print(f\"Siblings: {siblings}\")\n",
        "print(f\"Number of siblings: {num_siblings}\")\n",
        "print(f\"Family members: {family_members}\")"
      ],
      "metadata": {
        "colab": {
          "base_uri": "https://localhost:8080/"
        },
        "id": "e024wnlkXtti",
        "outputId": "17d9c56c-aa97-4257-9fc2-909c86706fee"
      },
      "execution_count": 4,
      "outputs": [
        {
          "output_type": "stream",
          "name": "stdout",
          "text": [
            "Siblings: ('Preksha', 'Shreya', 'Rahul', 'Rohit')\n",
            "Number of siblings: 4\n",
            "Family members: ('Preksha', 'Shreya', 'Rahul', 'Rohit', 'Robert', 'Susan')\n"
          ]
        }
      ]
    },
    {
      "cell_type": "code",
      "source": [
        "# Question 4\n",
        "it_companies = {'Facebook', 'Google', 'Microsoft', 'Apple', 'IBM', 'Oracle', 'Amazon'}\n",
        "A = {19, 22, 24, 20, 25, 26}\n",
        "B = {19, 22, 20, 25, 26, 24, 28, 27}\n",
        "age = [22, 19, 24, 25, 26, 24, 25, 24]\n",
        "\n",
        "print(\"Length of it_companies =\",len(it_companies))\n",
        "\n",
        "it_companies.add(\"Twitter\")\n",
        "\n",
        "it_companies.update({\"TCS\",\"Accenture\"})\n",
        "\n",
        "it_companies.remove(\"Accenture\")\n",
        "\n",
        "print(A|B)\n",
        "print(A.intersection(B))\n",
        "print(A.issubset(B))\n",
        "print(A.symmetric_difference(B))\n",
        "del A,B\n",
        "age_set = set(age)\n",
        "print(len(age_set)<len(age))"
      ],
      "metadata": {
        "colab": {
          "base_uri": "https://localhost:8080/"
        },
        "id": "rlqXQJPsYpKl",
        "outputId": "fd53540a-2670-4ec0-a4ca-8801f81b7f33"
      },
      "execution_count": 5,
      "outputs": [
        {
          "output_type": "stream",
          "name": "stdout",
          "text": [
            "Length of it_companies = 7\n",
            "{19, 20, 22, 24, 25, 26, 27, 28}\n",
            "{19, 20, 22, 24, 25, 26}\n",
            "True\n",
            "{27, 28}\n",
            "True\n"
          ]
        }
      ]
    },
    {
      "cell_type": "code",
      "source": [
        "#QUESTION 5\n",
        "\n",
        "#taking radius as per input\n",
        "radius=30\n",
        "print(f\"radius of the circle is: \", radius)\n",
        "#area of circle\n",
        "area_of_circle=3.14*(radius**2)\n",
        "#circumference of circle\n",
        "circumference_of_circle=2*3.14*radius\n",
        "print(f\"area of circle: \", area_of_circle)\n",
        "print(f\"circumference of circle: \", circumference_of_circle)\n",
        "#To take the input from the console\n",
        "radius_input = int(input(\"enter radius\"))\n",
        "new_area = 3.14*radius_input*radius_input\n",
        "print(f\"Area from user input radius: \", new_area)"
      ],
      "metadata": {
        "colab": {
          "base_uri": "https://localhost:8080/"
        },
        "id": "Wb2xNzSKbVz7",
        "outputId": "3fceda92-006f-48fc-89fe-a3d4b5e7c834"
      },
      "execution_count": 15,
      "outputs": [
        {
          "output_type": "stream",
          "name": "stdout",
          "text": [
            "radius of the circle is:  30\n",
            "area of circle:  2826.0\n",
            "circumference of circle:  188.4\n",
            "enter radius25\n",
            "Area from user input radius:  1962.5\n"
          ]
        }
      ]
    },
    {
      "cell_type": "code",
      "source": [
        "# Question 6\n",
        "\n",
        "# Given sentence\n",
        "sentence = \"I am a teacher and I love to inspire and teach people\"\n",
        "\n",
        "# Split the sentence into words\n",
        "words = sentence.split()\n",
        "\n",
        "# Use a set to get the unique words\n",
        "unique_words = set(words)\n",
        "\n",
        "# Count the number of unique words\n",
        "num_unique_words = len(unique_words)\n",
        "\n",
        "print(f\"Unique words: {unique_words}\")\n",
        "print(f\"Number of unique words: {num_unique_words}\")"
      ],
      "metadata": {
        "colab": {
          "base_uri": "https://localhost:8080/"
        },
        "id": "Ginx_6XVbqNz",
        "outputId": "880716dd-90a5-4e78-eeac-034a9c6645a5"
      },
      "execution_count": 17,
      "outputs": [
        {
          "output_type": "stream",
          "name": "stdout",
          "text": [
            "Unique words: {'a', 'to', 'and', 'inspire', 'teacher', 'teach', 'people', 'I', 'love', 'am'}\n",
            "Number of unique words: 10\n"
          ]
        }
      ]
    },
    {
      "cell_type": "code",
      "source": [
        "# Question 7\n",
        "\n",
        "print(\"Name\\tAge\\tCountry\\tCity\")\n",
        "print(\"Asabeneh\\t250\\tFinland\\tHelsinki\")\n"
      ],
      "metadata": {
        "colab": {
          "base_uri": "https://localhost:8080/"
        },
        "id": "J8FUk-8zcH34",
        "outputId": "4cae1322-ca83-4da3-af99-c9c8557e2202"
      },
      "execution_count": 18,
      "outputs": [
        {
          "output_type": "stream",
          "name": "stdout",
          "text": [
            "Name\tAge\tCountry\tCity\n",
            "Asabeneh\t250\tFinland\tHelsinki\n"
          ]
        }
      ]
    },
    {
      "cell_type": "code",
      "source": [
        "# Question 8\n",
        "\n",
        "# Given radius\n",
        "radius = 10\n",
        "\n",
        "# Calculate the area\n",
        "area = 3.14 * radius ** 2\n",
        "\n",
        "# Use string formatting to display the sentence\n",
        "print(f\"The area of a circle with radius {radius} is {area} meters square.\")"
      ],
      "metadata": {
        "colab": {
          "base_uri": "https://localhost:8080/"
        },
        "id": "oPrnYmxacQx2",
        "outputId": "ba7c27fb-e68a-45fd-aed7-d886d259d6db"
      },
      "execution_count": 19,
      "outputs": [
        {
          "output_type": "stream",
          "name": "stdout",
          "text": [
            "The area of a circle with radius 10 is 314.0 meters square.\n"
          ]
        }
      ]
    },
    {
      "cell_type": "code",
      "source": [
        "#QUESTION 9\n",
        "\n",
        "#list of students weights\n",
        "weight_lbs = [150, 155, 145, 148]\n",
        "weight_kgs = []\n",
        "\n",
        "#converting weight to kgs\n",
        "for x in weight_lbs:\n",
        "    weight_kgs.append(x*0.453592)\n",
        "print(f\"weight in kgs: \",weight_kgs)   # Printing the Weight in Kgs"
      ],
      "metadata": {
        "colab": {
          "base_uri": "https://localhost:8080/"
        },
        "id": "1c1d2aZ3cwWf",
        "outputId": "b88ae7a5-785a-4068-f0ed-cbbd6a9752db"
      },
      "execution_count": 20,
      "outputs": [
        {
          "output_type": "stream",
          "name": "stdout",
          "text": [
            "weight in kgs:  [68.0388, 70.30676, 65.77083999999999, 67.131616]\n"
          ]
        }
      ]
    }
  ]
}